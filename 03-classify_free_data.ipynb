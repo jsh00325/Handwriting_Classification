{
 "cells": [
  {
   "cell_type": "markdown",
   "metadata": {},
   "source": [
    "## 02. 원본 자유필사 이미지에서 단어 자르기"
   ]
  },
  {
   "cell_type": "code",
   "execution_count": 12,
   "metadata": {},
   "outputs": [],
   "source": [
    "import matplotlib.pyplot as plt\n",
    "import seaborn as sns\n",
    "import pandas as pd\n",
    "import numpy as np\n",
    "import os, json, sys, re"
   ]
  },
  {
   "cell_type": "code",
   "execution_count": 13,
   "metadata": {},
   "outputs": [
    {
     "data": {
      "text/plain": [
       "12797"
      ]
     },
     "execution_count": 13,
     "metadata": {},
     "output_type": "execute_result"
    }
   ],
   "source": [
    "label_file_list = os.listdir('./Paper_Label/female') + os.listdir('./Paper_Label/male')\n",
    "len(label_file_list)"
   ]
  },
  {
   "cell_type": "code",
   "execution_count": 14,
   "metadata": {},
   "outputs": [],
   "source": [
    "def convertSex(sex) :\n",
    "    if (sex == 0) :\n",
    "        return 'female'\n",
    "    else :\n",
    "        return 'male'"
   ]
  },
  {
   "cell_type": "code",
   "execution_count": 15,
   "metadata": {},
   "outputs": [],
   "source": [
    "def convertPenType(penType) :\n",
    "    if (penType == 0) :\n",
    "        return 'ball'\n",
    "    elif (penType == 1) :\n",
    "        return 'marker'\n",
    "    elif (penType == 2) :\n",
    "        return 'stylus'\n",
    "    else :\n",
    "        return 'etc'"
   ]
  },
  {
   "cell_type": "code",
   "execution_count": 16,
   "metadata": {},
   "outputs": [],
   "source": [
    "def convertSex(sex) :\n",
    "    if (sex == 0) :\n",
    "        return 'female'\n",
    "    else :\n",
    "        return 'male'"
   ]
  },
  {
   "cell_type": "code",
   "execution_count": 17,
   "metadata": {},
   "outputs": [],
   "source": [
    "def convertAgeRange(age) :\n",
    "    if (10 <= age < 20) :\n",
    "        return '10s'\n",
    "    elif (20 <= age < 30) :\n",
    "        return '20s'\n",
    "    elif (30 <= age < 40) :\n",
    "        return '30s'\n",
    "    elif (40 <= age < 50) :\n",
    "        return '40s'\n",
    "    elif (50 <= age < 60) :\n",
    "        return '50s'\n",
    "    else :\n",
    "        return '60s over'"
   ]
  },
  {
   "cell_type": "markdown",
   "metadata": {},
   "source": [
    "### DO : 이미지 파일에서 단어 잘라서, \"파일 이름\" + \"_인덱스\" 형식으로 저장하기 & 라벨링 데이터로 데이터 프레임에 성별, 나이, 단어 개수, 원본 이미지 파일 이름 저장하기."
   ]
  },
  {
   "cell_type": "markdown",
   "metadata": {},
   "source": [
    "한글 단어 판별 함수"
   ]
  },
  {
   "cell_type": "code",
   "execution_count": 18,
   "metadata": {},
   "outputs": [],
   "source": [
    "def isHangul(text):\n",
    "    #Check the Python Version\n",
    "    pyVer3 =  sys.version_info >= (3, 0)\n",
    "\n",
    "    if pyVer3 : # for Ver 3 or later\n",
    "        encText = text\n",
    "    else: # for Ver 2.x\n",
    "        if type(text) is not unicode:\n",
    "            encText = text.decode('utf-8')\n",
    "        else:\n",
    "            encText = text\n",
    "\n",
    "    hanCount = len(re.findall(u'[\\u3130-\\u318F\\uAC00-\\uD7A3]+', encText))\n",
    "    return hanCount > 0"
   ]
  },
  {
   "cell_type": "code",
   "execution_count": 19,
   "metadata": {},
   "outputs": [],
   "source": [
    "from PIL import Image\n",
    "\n",
    "label_file_list = os.listdir('./Paper_Label/female') + os.listdir('./Paper_Label/male')\n",
    "len(label_file_list)\n",
    "\n",
    "word_dict_list = []\n",
    "file_location = ['./Paper_Label/female/', './Paper_Label/male/']\n",
    "image_location = './Paper_Png/'\n",
    "\n",
    "for location in file_location :\n",
    "    for label_file in os.listdir(location):\n",
    "        with open(location+label_file, 'r', encoding='utf8') as f:\n",
    "            info_json = json.load(f)\n",
    "        img = Image.open(image_location + label_file[:-4] + 'png')\n",
    "        writer_sex = info_json['Images']['writer_sex']\n",
    "        writer_age = info_json['Images']['writer_age']\n",
    "        writer_age_range = convertAgeRange(writer_age)\n",
    "\n",
    "        for cnt, word in enumerate(info_json['bbox']):\n",
    "            if isHangul(word['data']) and 2<=len(word['data'])<=4:\n",
    "                word_len = len(word['data'])\n",
    "                #이미지 crop 해서 ./Word_Cut_Png에 저장\n",
    "                # 이때 파일명은 원래 파일명 + 저장되는 순서로 한다.\n",
    "                \n",
    "                cut_img = img.crop((word['x'][0], word['y'][0], word['x'][3], word['y'][3]))\n",
    "                cut_img.save('./Word_Cut_Png/' + label_file[:-5] + '_' + str(cnt) + '.png')\n",
    "                word_dict_list.append({\n",
    "                    'image_file_name': label_file[:-5] + '_' + str(cnt) + '.png',\n",
    "                    'sex' : convertSex(writer_sex),\n",
    "                    'age' : writer_age,\n",
    "                    'age_range' : writer_age_range,\n",
    "                    'word' : word['data'],\n",
    "                    'word_len' : word_len\n",
    "                })\n",
    "\n",
    "df = pd.DataFrame(word_dict_list)"
   ]
  },
  {
   "cell_type": "code",
   "execution_count": 20,
   "metadata": {},
   "outputs": [
    {
     "data": {
      "text/html": [
       "<div>\n",
       "<style scoped>\n",
       "    .dataframe tbody tr th:only-of-type {\n",
       "        vertical-align: middle;\n",
       "    }\n",
       "\n",
       "    .dataframe tbody tr th {\n",
       "        vertical-align: top;\n",
       "    }\n",
       "\n",
       "    .dataframe thead th {\n",
       "        text-align: right;\n",
       "    }\n",
       "</style>\n",
       "<table border=\"1\" class=\"dataframe\">\n",
       "  <thead>\n",
       "    <tr style=\"text-align: right;\">\n",
       "      <th></th>\n",
       "      <th>image_file_name</th>\n",
       "      <th>sex</th>\n",
       "      <th>age</th>\n",
       "      <th>age_range</th>\n",
       "      <th>word</th>\n",
       "      <th>word_len</th>\n",
       "    </tr>\n",
       "  </thead>\n",
       "  <tbody>\n",
       "    <tr>\n",
       "      <th>0</th>\n",
       "      <td>IMG_OCR_53_4PR_09305_1.png</td>\n",
       "      <td>female</td>\n",
       "      <td>41</td>\n",
       "      <td>40s</td>\n",
       "      <td>강원도</td>\n",
       "      <td>3</td>\n",
       "    </tr>\n",
       "    <tr>\n",
       "      <th>1</th>\n",
       "      <td>IMG_OCR_53_4PR_09305_2.png</td>\n",
       "      <td>female</td>\n",
       "      <td>41</td>\n",
       "      <td>40s</td>\n",
       "      <td>경상북도</td>\n",
       "      <td>4</td>\n",
       "    </tr>\n",
       "    <tr>\n",
       "      <th>2</th>\n",
       "      <td>IMG_OCR_53_4PR_09305_3.png</td>\n",
       "      <td>female</td>\n",
       "      <td>41</td>\n",
       "      <td>40s</td>\n",
       "      <td>경기도</td>\n",
       "      <td>3</td>\n",
       "    </tr>\n",
       "    <tr>\n",
       "      <th>3</th>\n",
       "      <td>IMG_OCR_53_4PR_09305_4.png</td>\n",
       "      <td>female</td>\n",
       "      <td>41</td>\n",
       "      <td>40s</td>\n",
       "      <td>인제군</td>\n",
       "      <td>3</td>\n",
       "    </tr>\n",
       "    <tr>\n",
       "      <th>4</th>\n",
       "      <td>IMG_OCR_53_4PR_09305_5.png</td>\n",
       "      <td>female</td>\n",
       "      <td>41</td>\n",
       "      <td>40s</td>\n",
       "      <td>영광군</td>\n",
       "      <td>3</td>\n",
       "    </tr>\n",
       "  </tbody>\n",
       "</table>\n",
       "</div>"
      ],
      "text/plain": [
       "              image_file_name     sex  age age_range  word  word_len\n",
       "0  IMG_OCR_53_4PR_09305_1.png  female   41       40s   강원도         3\n",
       "1  IMG_OCR_53_4PR_09305_2.png  female   41       40s  경상북도         4\n",
       "2  IMG_OCR_53_4PR_09305_3.png  female   41       40s   경기도         3\n",
       "3  IMG_OCR_53_4PR_09305_4.png  female   41       40s   인제군         3\n",
       "4  IMG_OCR_53_4PR_09305_5.png  female   41       40s   영광군         3"
      ]
     },
     "execution_count": 20,
     "metadata": {},
     "output_type": "execute_result"
    }
   ],
   "source": [
    "df.head()"
   ]
  },
  {
   "cell_type": "code",
   "execution_count": 22,
   "metadata": {},
   "outputs": [],
   "source": [
    "df.to_csv('word_data.csv', encoding = 'utf-8', index = False)"
   ]
  },
  {
   "cell_type": "code",
   "execution_count": 23,
   "metadata": {},
   "outputs": [
    {
     "data": {
      "text/html": [
       "<div>\n",
       "<style scoped>\n",
       "    .dataframe tbody tr th:only-of-type {\n",
       "        vertical-align: middle;\n",
       "    }\n",
       "\n",
       "    .dataframe tbody tr th {\n",
       "        vertical-align: top;\n",
       "    }\n",
       "\n",
       "    .dataframe thead th {\n",
       "        text-align: right;\n",
       "    }\n",
       "</style>\n",
       "<table border=\"1\" class=\"dataframe\">\n",
       "  <thead>\n",
       "    <tr style=\"text-align: right;\">\n",
       "      <th></th>\n",
       "      <th>image_file_name</th>\n",
       "      <th>sex</th>\n",
       "      <th>age</th>\n",
       "      <th>age_range</th>\n",
       "      <th>word</th>\n",
       "      <th>word_len</th>\n",
       "    </tr>\n",
       "  </thead>\n",
       "  <tbody>\n",
       "    <tr>\n",
       "      <th>0</th>\n",
       "      <td>IMG_OCR_53_4PR_09305_1.png</td>\n",
       "      <td>female</td>\n",
       "      <td>41</td>\n",
       "      <td>40s</td>\n",
       "      <td>강원도</td>\n",
       "      <td>3</td>\n",
       "    </tr>\n",
       "    <tr>\n",
       "      <th>1</th>\n",
       "      <td>IMG_OCR_53_4PR_09305_2.png</td>\n",
       "      <td>female</td>\n",
       "      <td>41</td>\n",
       "      <td>40s</td>\n",
       "      <td>경상북도</td>\n",
       "      <td>4</td>\n",
       "    </tr>\n",
       "    <tr>\n",
       "      <th>2</th>\n",
       "      <td>IMG_OCR_53_4PR_09305_3.png</td>\n",
       "      <td>female</td>\n",
       "      <td>41</td>\n",
       "      <td>40s</td>\n",
       "      <td>경기도</td>\n",
       "      <td>3</td>\n",
       "    </tr>\n",
       "    <tr>\n",
       "      <th>3</th>\n",
       "      <td>IMG_OCR_53_4PR_09305_4.png</td>\n",
       "      <td>female</td>\n",
       "      <td>41</td>\n",
       "      <td>40s</td>\n",
       "      <td>인제군</td>\n",
       "      <td>3</td>\n",
       "    </tr>\n",
       "    <tr>\n",
       "      <th>4</th>\n",
       "      <td>IMG_OCR_53_4PR_09305_5.png</td>\n",
       "      <td>female</td>\n",
       "      <td>41</td>\n",
       "      <td>40s</td>\n",
       "      <td>영광군</td>\n",
       "      <td>3</td>\n",
       "    </tr>\n",
       "  </tbody>\n",
       "</table>\n",
       "</div>"
      ],
      "text/plain": [
       "              image_file_name     sex  age age_range  word  word_len\n",
       "0  IMG_OCR_53_4PR_09305_1.png  female   41       40s   강원도         3\n",
       "1  IMG_OCR_53_4PR_09305_2.png  female   41       40s  경상북도         4\n",
       "2  IMG_OCR_53_4PR_09305_3.png  female   41       40s   경기도         3\n",
       "3  IMG_OCR_53_4PR_09305_4.png  female   41       40s   인제군         3\n",
       "4  IMG_OCR_53_4PR_09305_5.png  female   41       40s   영광군         3"
      ]
     },
     "execution_count": 23,
     "metadata": {},
     "output_type": "execute_result"
    }
   ],
   "source": [
    "df2 = pd.read_csv('word_data.csv')\n",
    "df2.head()"
   ]
  }
 ],
 "metadata": {
  "kernelspec": {
   "display_name": "test",
   "language": "python",
   "name": "python3"
  },
  "language_info": {
   "codemirror_mode": {
    "name": "ipython",
    "version": 3
   },
   "file_extension": ".py",
   "mimetype": "text/x-python",
   "name": "python",
   "nbconvert_exporter": "python",
   "pygments_lexer": "ipython3",
   "version": "3.8.19"
  }
 },
 "nbformat": 4,
 "nbformat_minor": 2
}
