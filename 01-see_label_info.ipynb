{
 "cells": [
  {
   "cell_type": "code",
   "execution_count": 1,
   "metadata": {},
   "outputs": [],
   "source": [
    "import matplotlib.pyplot as plt\n",
    "import seaborn as sns\n",
    "import pandas as pd\n",
    "import numpy as np\n",
    "import os, json"
   ]
  },
  {
   "cell_type": "code",
   "execution_count": 2,
   "metadata": {},
   "outputs": [
    {
     "data": {
      "text/plain": [
       "12797"
      ]
     },
     "execution_count": 2,
     "metadata": {},
     "output_type": "execute_result"
    }
   ],
   "source": [
    "label_file_list = os.listdir('./Paper_Label/female') + os.listdir('./Paper_Label/male')\n",
    "len(label_file_list)"
   ]
  },
  {
   "cell_type": "code",
   "execution_count": 3,
   "metadata": {},
   "outputs": [],
   "source": [
    "def convertSex(sex) :\n",
    "    if (sex == 0) :\n",
    "        return 'female'\n",
    "    else :\n",
    "        return 'male'"
   ]
  },
  {
   "cell_type": "code",
   "execution_count": 4,
   "metadata": {},
   "outputs": [],
   "source": [
    "def convertPenType(penType) :\n",
    "    if (penType == 0) :\n",
    "        return 'ball'\n",
    "    elif (penType == 1) :\n",
    "        return 'marker'\n",
    "    elif (penType == 2) :\n",
    "        return 'stylus'\n",
    "    else :\n",
    "        return 'etc'"
   ]
  },
  {
   "cell_type": "code",
   "execution_count": 5,
   "metadata": {},
   "outputs": [],
   "source": [
    "data_dict_list = []\n",
    "file_location = ['./Paper_Label/female/', './Paper_Label/male/']\n",
    "\n",
    "for location in file_location :\n",
    "    for label_file in os.listdir(location):\n",
    "        with open(location+label_file) as f:\n",
    "            info_json = json.load(f)\n",
    "\n",
    "            data_dict_list.append({\n",
    "                'sex': convertSex(info_json['Images']['writer_sex']),\n",
    "                'age': info_json['Images']['writer_age'],\n",
    "                'pen_type': convertPenType(info_json['Images']['pen_type']),\n",
    "                'pen_color': info_json['Images']['pen_color'],\n",
    "                'image_file_name': label_file[:-4] + info_json['Images']['type'],\n",
    "            })\n",
    "        \n",
    "df = pd.DataFrame(data_dict_list)"
   ]
  },
  {
   "cell_type": "code",
   "execution_count": 6,
   "metadata": {},
   "outputs": [
    {
     "data": {
      "text/html": [
       "<div>\n",
       "<style scoped>\n",
       "    .dataframe tbody tr th:only-of-type {\n",
       "        vertical-align: middle;\n",
       "    }\n",
       "\n",
       "    .dataframe tbody tr th {\n",
       "        vertical-align: top;\n",
       "    }\n",
       "\n",
       "    .dataframe thead th {\n",
       "        text-align: right;\n",
       "    }\n",
       "</style>\n",
       "<table border=\"1\" class=\"dataframe\">\n",
       "  <thead>\n",
       "    <tr style=\"text-align: right;\">\n",
       "      <th></th>\n",
       "      <th>sex</th>\n",
       "      <th>age</th>\n",
       "      <th>pen_type</th>\n",
       "      <th>pen_color</th>\n",
       "      <th>image_file_name</th>\n",
       "    </tr>\n",
       "  </thead>\n",
       "  <tbody>\n",
       "    <tr>\n",
       "      <th>0</th>\n",
       "      <td>female</td>\n",
       "      <td>41</td>\n",
       "      <td>ball</td>\n",
       "      <td>black</td>\n",
       "      <td>IMG_OCR_53_4PR_09305.png</td>\n",
       "    </tr>\n",
       "    <tr>\n",
       "      <th>1</th>\n",
       "      <td>female</td>\n",
       "      <td>41</td>\n",
       "      <td>ball</td>\n",
       "      <td>black</td>\n",
       "      <td>IMG_OCR_53_4PR_09306.png</td>\n",
       "    </tr>\n",
       "    <tr>\n",
       "      <th>2</th>\n",
       "      <td>female</td>\n",
       "      <td>41</td>\n",
       "      <td>ball</td>\n",
       "      <td>black</td>\n",
       "      <td>IMG_OCR_53_4PR_09308.png</td>\n",
       "    </tr>\n",
       "    <tr>\n",
       "      <th>3</th>\n",
       "      <td>female</td>\n",
       "      <td>41</td>\n",
       "      <td>ball</td>\n",
       "      <td>black</td>\n",
       "      <td>IMG_OCR_53_4PR_09310.png</td>\n",
       "    </tr>\n",
       "    <tr>\n",
       "      <th>4</th>\n",
       "      <td>female</td>\n",
       "      <td>41</td>\n",
       "      <td>ball</td>\n",
       "      <td>black</td>\n",
       "      <td>IMG_OCR_53_4PR_09313.png</td>\n",
       "    </tr>\n",
       "    <tr>\n",
       "      <th>...</th>\n",
       "      <td>...</td>\n",
       "      <td>...</td>\n",
       "      <td>...</td>\n",
       "      <td>...</td>\n",
       "      <td>...</td>\n",
       "    </tr>\n",
       "    <tr>\n",
       "      <th>12792</th>\n",
       "      <td>male</td>\n",
       "      <td>24</td>\n",
       "      <td>ball</td>\n",
       "      <td>black</td>\n",
       "      <td>IMG_OCR_53_4PR_99763.png</td>\n",
       "    </tr>\n",
       "    <tr>\n",
       "      <th>12793</th>\n",
       "      <td>male</td>\n",
       "      <td>20</td>\n",
       "      <td>ball</td>\n",
       "      <td>black</td>\n",
       "      <td>IMG_OCR_53_4PR_99772.png</td>\n",
       "    </tr>\n",
       "    <tr>\n",
       "      <th>12794</th>\n",
       "      <td>male</td>\n",
       "      <td>20</td>\n",
       "      <td>ball</td>\n",
       "      <td>black</td>\n",
       "      <td>IMG_OCR_53_4PR_99910.png</td>\n",
       "    </tr>\n",
       "    <tr>\n",
       "      <th>12795</th>\n",
       "      <td>male</td>\n",
       "      <td>20</td>\n",
       "      <td>ball</td>\n",
       "      <td>black</td>\n",
       "      <td>IMG_OCR_53_4PR_99923.png</td>\n",
       "    </tr>\n",
       "    <tr>\n",
       "      <th>12796</th>\n",
       "      <td>male</td>\n",
       "      <td>22</td>\n",
       "      <td>ball</td>\n",
       "      <td>black</td>\n",
       "      <td>IMG_OCR_53_4PR_99941.png</td>\n",
       "    </tr>\n",
       "  </tbody>\n",
       "</table>\n",
       "<p>12797 rows × 5 columns</p>\n",
       "</div>"
      ],
      "text/plain": [
       "          sex  age pen_type pen_color           image_file_name\n",
       "0      female   41     ball     black  IMG_OCR_53_4PR_09305.png\n",
       "1      female   41     ball     black  IMG_OCR_53_4PR_09306.png\n",
       "2      female   41     ball     black  IMG_OCR_53_4PR_09308.png\n",
       "3      female   41     ball     black  IMG_OCR_53_4PR_09310.png\n",
       "4      female   41     ball     black  IMG_OCR_53_4PR_09313.png\n",
       "...       ...  ...      ...       ...                       ...\n",
       "12792    male   24     ball     black  IMG_OCR_53_4PR_99763.png\n",
       "12793    male   20     ball     black  IMG_OCR_53_4PR_99772.png\n",
       "12794    male   20     ball     black  IMG_OCR_53_4PR_99910.png\n",
       "12795    male   20     ball     black  IMG_OCR_53_4PR_99923.png\n",
       "12796    male   22     ball     black  IMG_OCR_53_4PR_99941.png\n",
       "\n",
       "[12797 rows x 5 columns]"
      ]
     },
     "execution_count": 6,
     "metadata": {},
     "output_type": "execute_result"
    }
   ],
   "source": [
    "df"
   ]
  },
  {
   "cell_type": "code",
   "execution_count": 7,
   "metadata": {},
   "outputs": [
    {
     "data": {
      "text/plain": [
       "<Axes: xlabel='age', ylabel='Count'>"
      ]
     },
     "execution_count": 7,
     "metadata": {},
     "output_type": "execute_result"
    },
    {
     "data": {
      "image/png": "[encoded data removed]",
      "text/plain": [
       "<Figure size 640x480 with 1 Axes>"
      ]
     },
     "metadata": {},
     "output_type": "display_data"
    }
   ],
   "source": [
    "sns.histplot(df['age'], bins=10)"
   ]
  },
  {
   "cell_type": "code",
   "execution_count": 8,
   "metadata": {},
   "outputs": [
    {
     "name": "stdout",
     "output_type": "stream",
     "text": [
      "[10,20): 2761\n",
      "[20,30): 5364\n",
      "[30,40): 2160\n",
      "[40,50): 1681\n",
      "[50,60): 831\n"
     ]
    }
   ],
   "source": [
    "sorted_age = sorted(df['age'])\n",
    "\n",
    "print('[10,20):', sorted_age.index(20))\n",
    "print('[20,30):', sorted_age.index(30) - sorted_age.index(20))\n",
    "print('[30,40):', sorted_age.index(40) - sorted_age.index(30))\n",
    "print('[40,50):', sorted_age.index(52) - sorted_age.index(40))\n",
    "print('[50,60):', len(sorted_age) - sorted_age.index(52))"
   ]
  },
  {
   "cell_type": "code",
   "execution_count": 9,
   "metadata": {},
   "outputs": [],
   "source": [
    "def convertAgeRange(age) :\n",
    "    if (10 <= age < 20) :\n",
    "        return '10s'\n",
    "    elif (20 <= age < 30) :\n",
    "        return '20s'\n",
    "    elif (30 <= age < 40) :\n",
    "        return '30s'\n",
    "    elif (40 <= age < 50) :\n",
    "        return '40s'\n",
    "    elif (50 <= age < 60) :\n",
    "        return '50s'\n",
    "    else :\n",
    "        return '60s over'"
   ]
  },
  {
   "cell_type": "code",
   "execution_count": 10,
   "metadata": {},
   "outputs": [],
   "source": [
    "df['age_range'] = df['age'].apply(convertAgeRange)"
   ]
  },
  {
   "cell_type": "code",
   "execution_count": 11,
   "metadata": {},
   "outputs": [
    {
     "data": {
      "text/html": [
       "<div>\n",
       "<style scoped>\n",
       "    .dataframe tbody tr th:only-of-type {\n",
       "        vertical-align: middle;\n",
       "    }\n",
       "\n",
       "    .dataframe tbody tr th {\n",
       "        vertical-align: top;\n",
       "    }\n",
       "\n",
       "    .dataframe thead th {\n",
       "        text-align: right;\n",
       "    }\n",
       "</style>\n",
       "<table border=\"1\" class=\"dataframe\">\n",
       "  <thead>\n",
       "    <tr style=\"text-align: right;\">\n",
       "      <th></th>\n",
       "      <th>sex</th>\n",
       "      <th>age</th>\n",
       "      <th>pen_type</th>\n",
       "      <th>pen_color</th>\n",
       "      <th>image_file_name</th>\n",
       "      <th>age_range</th>\n",
       "    </tr>\n",
       "  </thead>\n",
       "  <tbody>\n",
       "    <tr>\n",
       "      <th>0</th>\n",
       "      <td>female</td>\n",
       "      <td>41</td>\n",
       "      <td>ball</td>\n",
       "      <td>black</td>\n",
       "      <td>IMG_OCR_53_4PR_09305.png</td>\n",
       "      <td>40s</td>\n",
       "    </tr>\n",
       "    <tr>\n",
       "      <th>1</th>\n",
       "      <td>female</td>\n",
       "      <td>41</td>\n",
       "      <td>ball</td>\n",
       "      <td>black</td>\n",
       "      <td>IMG_OCR_53_4PR_09306.png</td>\n",
       "      <td>40s</td>\n",
       "    </tr>\n",
       "    <tr>\n",
       "      <th>2</th>\n",
       "      <td>female</td>\n",
       "      <td>41</td>\n",
       "      <td>ball</td>\n",
       "      <td>black</td>\n",
       "      <td>IMG_OCR_53_4PR_09308.png</td>\n",
       "      <td>40s</td>\n",
       "    </tr>\n",
       "    <tr>\n",
       "      <th>3</th>\n",
       "      <td>female</td>\n",
       "      <td>41</td>\n",
       "      <td>ball</td>\n",
       "      <td>black</td>\n",
       "      <td>IMG_OCR_53_4PR_09310.png</td>\n",
       "      <td>40s</td>\n",
       "    </tr>\n",
       "    <tr>\n",
       "      <th>4</th>\n",
       "      <td>female</td>\n",
       "      <td>41</td>\n",
       "      <td>ball</td>\n",
       "      <td>black</td>\n",
       "      <td>IMG_OCR_53_4PR_09313.png</td>\n",
       "      <td>40s</td>\n",
       "    </tr>\n",
       "    <tr>\n",
       "      <th>...</th>\n",
       "      <td>...</td>\n",
       "      <td>...</td>\n",
       "      <td>...</td>\n",
       "      <td>...</td>\n",
       "      <td>...</td>\n",
       "      <td>...</td>\n",
       "    </tr>\n",
       "    <tr>\n",
       "      <th>12792</th>\n",
       "      <td>male</td>\n",
       "      <td>24</td>\n",
       "      <td>ball</td>\n",
       "      <td>black</td>\n",
       "      <td>IMG_OCR_53_4PR_99763.png</td>\n",
       "      <td>20s</td>\n",
       "    </tr>\n",
       "    <tr>\n",
       "      <th>12793</th>\n",
       "      <td>male</td>\n",
       "      <td>20</td>\n",
       "      <td>ball</td>\n",
       "      <td>black</td>\n",
       "      <td>IMG_OCR_53_4PR_99772.png</td>\n",
       "      <td>20s</td>\n",
       "    </tr>\n",
       "    <tr>\n",
       "      <th>12794</th>\n",
       "      <td>male</td>\n",
       "      <td>20</td>\n",
       "      <td>ball</td>\n",
       "      <td>black</td>\n",
       "      <td>IMG_OCR_53_4PR_99910.png</td>\n",
       "      <td>20s</td>\n",
       "    </tr>\n",
       "    <tr>\n",
       "      <th>12795</th>\n",
       "      <td>male</td>\n",
       "      <td>20</td>\n",
       "      <td>ball</td>\n",
       "      <td>black</td>\n",
       "      <td>IMG_OCR_53_4PR_99923.png</td>\n",
       "      <td>20s</td>\n",
       "    </tr>\n",
       "    <tr>\n",
       "      <th>12796</th>\n",
       "      <td>male</td>\n",
       "      <td>22</td>\n",
       "      <td>ball</td>\n",
       "      <td>black</td>\n",
       "      <td>IMG_OCR_53_4PR_99941.png</td>\n",
       "      <td>20s</td>\n",
       "    </tr>\n",
       "  </tbody>\n",
       "</table>\n",
       "<p>12797 rows × 6 columns</p>\n",
       "</div>"
      ],
      "text/plain": [
       "          sex  age pen_type pen_color           image_file_name age_range\n",
       "0      female   41     ball     black  IMG_OCR_53_4PR_09305.png       40s\n",
       "1      female   41     ball     black  IMG_OCR_53_4PR_09306.png       40s\n",
       "2      female   41     ball     black  IMG_OCR_53_4PR_09308.png       40s\n",
       "3      female   41     ball     black  IMG_OCR_53_4PR_09310.png       40s\n",
       "4      female   41     ball     black  IMG_OCR_53_4PR_09313.png       40s\n",
       "...       ...  ...      ...       ...                       ...       ...\n",
       "12792    male   24     ball     black  IMG_OCR_53_4PR_99763.png       20s\n",
       "12793    male   20     ball     black  IMG_OCR_53_4PR_99772.png       20s\n",
       "12794    male   20     ball     black  IMG_OCR_53_4PR_99910.png       20s\n",
       "12795    male   20     ball     black  IMG_OCR_53_4PR_99923.png       20s\n",
       "12796    male   22     ball     black  IMG_OCR_53_4PR_99941.png       20s\n",
       "\n",
       "[12797 rows x 6 columns]"
      ]
     },
     "execution_count": 11,
     "metadata": {},
     "output_type": "execute_result"
    }
   ],
   "source": [
    "df"
   ]
  },
  {
   "cell_type": "markdown",
   "metadata": {},
   "source": [
    "# Visualization"
   ]
  },
  {
   "cell_type": "markdown",
   "metadata": {},
   "source": [
    "## 나이대 확인"
   ]
  },
  {
   "cell_type": "code",
   "execution_count": 12,
   "metadata": {},
   "outputs": [
    {
     "data": {
      "image/png": "[encoded data removed]",
      "text/plain": [
       "<Figure size 640x480 with 1 Axes>"
      ]
     },
     "metadata": {},
     "output_type": "display_data"
    }
   ],
   "source": [
    "sns.countplot(data=df, x='age_range', hue='sex', order=['10s', '20s', '30s', '40s', '50s'])\n",
    "plt.title('Age Range Distribution w. Sex')\n",
    "plt.show()"
   ]
  },
  {
   "cell_type": "code",
   "execution_count": 13,
   "metadata": {},
   "outputs": [
    {
     "data": {
      "text/plain": [
       "10s    2761\n",
       "20s    5364\n",
       "30s    2160\n",
       "40s    1681\n",
       "50s     831\n",
       "Name: age_range, dtype: int64"
      ]
     },
     "execution_count": 13,
     "metadata": {},
     "output_type": "execute_result"
    }
   ],
   "source": [
    "df['age_range'].value_counts().sort_index(ascending=True)"
   ]
  },
  {
   "cell_type": "markdown",
   "metadata": {},
   "source": [
    "`10s`(2761개) / `20s`(5364개) / `30s`(2160개) / `40s + 50s`(2512개)로 집단을 나눌 수 있음"
   ]
  },
  {
   "cell_type": "markdown",
   "metadata": {},
   "source": [
    "## 펜 색깔 & 종류 확인"
   ]
  },
  {
   "cell_type": "code",
   "execution_count": 14,
   "metadata": {},
   "outputs": [
    {
     "data": {
      "text/plain": [
       "black    12797\n",
       "Name: pen_color, dtype: int64"
      ]
     },
     "execution_count": 14,
     "metadata": {},
     "output_type": "execute_result"
    }
   ],
   "source": [
    "df['pen_color'].value_counts()"
   ]
  },
  {
   "cell_type": "markdown",
   "metadata": {},
   "source": [
    "펜의 색상이 `black`밖에 존재하지 않으므로, 해당 column은 삭제하여도 된다."
   ]
  },
  {
   "cell_type": "code",
   "execution_count": 15,
   "metadata": {},
   "outputs": [
    {
     "data": {
      "text/plain": [
       "ball    12797\n",
       "Name: pen_type, dtype: int64"
      ]
     },
     "execution_count": 15,
     "metadata": {},
     "output_type": "execute_result"
    }
   ],
   "source": [
    "df['pen_type'].value_counts()"
   ]
  },
  {
   "cell_type": "markdown",
   "metadata": {},
   "source": [
    "펜의 종류 또한 `ball`밖에 존재하지 않으므로, 해당 column은 삭제한다."
   ]
  },
  {
   "cell_type": "code",
   "execution_count": 16,
   "metadata": {},
   "outputs": [
    {
     "data": {
      "text/html": [
       "<div>\n",
       "<style scoped>\n",
       "    .dataframe tbody tr th:only-of-type {\n",
       "        vertical-align: middle;\n",
       "    }\n",
       "\n",
       "    .dataframe tbody tr th {\n",
       "        vertical-align: top;\n",
       "    }\n",
       "\n",
       "    .dataframe thead th {\n",
       "        text-align: right;\n",
       "    }\n",
       "</style>\n",
       "<table border=\"1\" class=\"dataframe\">\n",
       "  <thead>\n",
       "    <tr style=\"text-align: right;\">\n",
       "      <th></th>\n",
       "      <th>sex</th>\n",
       "      <th>age</th>\n",
       "      <th>image_file_name</th>\n",
       "      <th>age_range</th>\n",
       "    </tr>\n",
       "  </thead>\n",
       "  <tbody>\n",
       "    <tr>\n",
       "      <th>0</th>\n",
       "      <td>female</td>\n",
       "      <td>41</td>\n",
       "      <td>IMG_OCR_53_4PR_09305.png</td>\n",
       "      <td>40s</td>\n",
       "    </tr>\n",
       "    <tr>\n",
       "      <th>1</th>\n",
       "      <td>female</td>\n",
       "      <td>41</td>\n",
       "      <td>IMG_OCR_53_4PR_09306.png</td>\n",
       "      <td>40s</td>\n",
       "    </tr>\n",
       "    <tr>\n",
       "      <th>2</th>\n",
       "      <td>female</td>\n",
       "      <td>41</td>\n",
       "      <td>IMG_OCR_53_4PR_09308.png</td>\n",
       "      <td>40s</td>\n",
       "    </tr>\n",
       "    <tr>\n",
       "      <th>3</th>\n",
       "      <td>female</td>\n",
       "      <td>41</td>\n",
       "      <td>IMG_OCR_53_4PR_09310.png</td>\n",
       "      <td>40s</td>\n",
       "    </tr>\n",
       "    <tr>\n",
       "      <th>4</th>\n",
       "      <td>female</td>\n",
       "      <td>41</td>\n",
       "      <td>IMG_OCR_53_4PR_09313.png</td>\n",
       "      <td>40s</td>\n",
       "    </tr>\n",
       "    <tr>\n",
       "      <th>...</th>\n",
       "      <td>...</td>\n",
       "      <td>...</td>\n",
       "      <td>...</td>\n",
       "      <td>...</td>\n",
       "    </tr>\n",
       "    <tr>\n",
       "      <th>12792</th>\n",
       "      <td>male</td>\n",
       "      <td>24</td>\n",
       "      <td>IMG_OCR_53_4PR_99763.png</td>\n",
       "      <td>20s</td>\n",
       "    </tr>\n",
       "    <tr>\n",
       "      <th>12793</th>\n",
       "      <td>male</td>\n",
       "      <td>20</td>\n",
       "      <td>IMG_OCR_53_4PR_99772.png</td>\n",
       "      <td>20s</td>\n",
       "    </tr>\n",
       "    <tr>\n",
       "      <th>12794</th>\n",
       "      <td>male</td>\n",
       "      <td>20</td>\n",
       "      <td>IMG_OCR_53_4PR_99910.png</td>\n",
       "      <td>20s</td>\n",
       "    </tr>\n",
       "    <tr>\n",
       "      <th>12795</th>\n",
       "      <td>male</td>\n",
       "      <td>20</td>\n",
       "      <td>IMG_OCR_53_4PR_99923.png</td>\n",
       "      <td>20s</td>\n",
       "    </tr>\n",
       "    <tr>\n",
       "      <th>12796</th>\n",
       "      <td>male</td>\n",
       "      <td>22</td>\n",
       "      <td>IMG_OCR_53_4PR_99941.png</td>\n",
       "      <td>20s</td>\n",
       "    </tr>\n",
       "  </tbody>\n",
       "</table>\n",
       "<p>12797 rows × 4 columns</p>\n",
       "</div>"
      ],
      "text/plain": [
       "          sex  age           image_file_name age_range\n",
       "0      female   41  IMG_OCR_53_4PR_09305.png       40s\n",
       "1      female   41  IMG_OCR_53_4PR_09306.png       40s\n",
       "2      female   41  IMG_OCR_53_4PR_09308.png       40s\n",
       "3      female   41  IMG_OCR_53_4PR_09310.png       40s\n",
       "4      female   41  IMG_OCR_53_4PR_09313.png       40s\n",
       "...       ...  ...                       ...       ...\n",
       "12792    male   24  IMG_OCR_53_4PR_99763.png       20s\n",
       "12793    male   20  IMG_OCR_53_4PR_99772.png       20s\n",
       "12794    male   20  IMG_OCR_53_4PR_99910.png       20s\n",
       "12795    male   20  IMG_OCR_53_4PR_99923.png       20s\n",
       "12796    male   22  IMG_OCR_53_4PR_99941.png       20s\n",
       "\n",
       "[12797 rows x 4 columns]"
      ]
     },
     "execution_count": 16,
     "metadata": {},
     "output_type": "execute_result"
    }
   ],
   "source": [
    "df.drop(['pen_color', 'pen_type'], axis=1, inplace=True)\n",
    "df"
   ]
  },
  {
   "cell_type": "markdown",
   "metadata": {},
   "source": []
  }
 ],
 "metadata": {
  "kernelspec": {
   "display_name": "test",
   "language": "python",
   "name": "python3"
  },
  "language_info": {
   "codemirror_mode": {
    "name": "ipython",
    "version": 3
   },
   "file_extension": ".py",
   "mimetype": "text/x-python",
   "name": "python",
   "nbconvert_exporter": "python",
   "pygments_lexer": "ipython3",
   "version": "3.8.19"
  }
 },
 "nbformat": 4,
 "nbformat_minor": 2
}
