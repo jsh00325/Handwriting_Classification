{
 "cells": [
  {
   "cell_type": "markdown",
   "metadata": {},
   "source": [
    "## CNN 모델 네트워크 구축"
   ]
  },
  {
   "cell_type": "code",
   "execution_count": 1,
   "metadata": {},
   "outputs": [],
   "source": [
    "import numpy as np\n",
    "import pandas as pd\n",
    "import torch"
   ]
  },
  {
   "cell_type": "code",
   "execution_count": 2,
   "metadata": {},
   "outputs": [
    {
     "data": {
      "text/plain": [
       "device(type='cuda')"
      ]
     },
     "execution_count": 2,
     "metadata": {},
     "output_type": "execute_result"
    }
   ],
   "source": [
    "device = torch.device(\"cuda\" if torch.cuda.is_available() else \"cpu\")\n",
    "device"
   ]
  },
  {
   "cell_type": "markdown",
   "metadata": {},
   "source": [
    "### 데이터 불러오기"
   ]
  },
  {
   "cell_type": "code",
   "execution_count": 3,
   "metadata": {},
   "outputs": [],
   "source": [
    "NUMPY_ROOT_PATH = 'C:/Users/PC00/Desktop/24하계 연수생/Handwriting_Classification/Numpy_data/'"
   ]
  },
  {
   "cell_type": "code",
   "execution_count": 4,
   "metadata": {},
   "outputs": [],
   "source": [
    "X = np.load(NUMPY_ROOT_PATH+'20s_3_X.npy')\n",
    "X = torch.tensor(X.reshape(-1, X.shape[3], X.shape[1], X.shape[2]), dtype=torch.float32)"
   ]
  },
  {
   "cell_type": "code",
   "execution_count": 5,
   "metadata": {},
   "outputs": [],
   "source": [
    "y = np.load(NUMPY_ROOT_PATH+'20s_3_y.npy')\n",
    "y = torch.tensor(y.reshape(-1), dtype=torch.long)"
   ]
  },
  {
   "cell_type": "code",
   "execution_count": 6,
   "metadata": {},
   "outputs": [],
   "source": [
    "from sklearn.model_selection import train_test_split"
   ]
  },
  {
   "cell_type": "code",
   "execution_count": 7,
   "metadata": {},
   "outputs": [],
   "source": [
    "X_train, X_test, y_train, y_test = train_test_split(X, y, test_size=0.2, random_state=42, stratify=y)\n",
    "X_valid, X_test, y_valid, y_test = train_test_split(X_test, y_test, test_size=0.5, random_state=42, stratify=y_test)"
   ]
  },
  {
   "cell_type": "code",
   "execution_count": 8,
   "metadata": {},
   "outputs": [
    {
     "name": "stdout",
     "output_type": "stream",
     "text": [
      "torch.Size([76144, 1, 76, 180]) torch.Size([9518, 1, 76, 180]) torch.Size([9518, 1, 76, 180])\n",
      "torch.Size([76144]) torch.Size([9518]) torch.Size([9518])\n"
     ]
    }
   ],
   "source": [
    "print(X_train.shape, X_valid.shape, X_test.shape)\n",
    "print(y_train.shape, y_valid.shape, y_test.shape)"
   ]
  },
  {
   "cell_type": "markdown",
   "metadata": {},
   "source": [
    "### 모델 생성"
   ]
  },
  {
   "cell_type": "code",
   "execution_count": 9,
   "metadata": {},
   "outputs": [],
   "source": [
    "from torch import nn\n",
    "import torch.nn.functional as F\n",
    "from torchsummary import summary"
   ]
  },
  {
   "cell_type": "code",
   "execution_count": 10,
   "metadata": {},
   "outputs": [],
   "source": [
    "class LeNet(nn.Module):\n",
    "    def __init__(self):\n",
    "        super(LeNet,self).__init__()\n",
    "\n",
    "        self.layer = nn.Sequential(\n",
    "            nn.Conv2d(1, 32, kernel_size=5, stride=1),\n",
    "            nn.ReLU(),\n",
    "\n",
    "            nn.MaxPool2d(kernel_size=3, stride=3),\n",
    "\n",
    "            nn.Dropout2d(0.25),\n",
    "            nn.Conv2d(32, 64, kernel_size=5, stride=1),\n",
    "            nn.ReLU(),\n",
    "\n",
    "            nn.MaxPool2d(kernel_size=3, stride=3),\n",
    "            nn.Dropout2d(0.25)\n",
    "        )\n",
    "\n",
    "        self.fc_layer = nn.Sequential(\n",
    "            nn.Dropout(0.5),\n",
    "            nn.Linear(64*6*18, 128),\n",
    "            nn.ReLU(),\n",
    "\n",
    "            nn.Linear(128, 2),\n",
    "            nn.Softmax(dim=1)\n",
    "        )\n",
    "\n",
    "    def forward(self, x):\n",
    "        out = self.layer(x)\n",
    "        out = out.view(-1, 64*6*18)\n",
    "        out = self.fc_layer(out)\n",
    "\n",
    "        return out"
   ]
  },
  {
   "cell_type": "markdown",
   "metadata": {},
   "source": [
    "# GRID Search"
   ]
  },
  {
   "cell_type": "code",
   "execution_count": 11,
   "metadata": {},
   "outputs": [],
   "source": [
    "learning_rate = [1e-3, 5e-4, 1e-4, 5e-5, 1e-5]\n",
    "batch_size = [16, 32, 64, 128]\n",
    "EPOCH = 200"
   ]
  },
  {
   "cell_type": "code",
   "execution_count": 12,
   "metadata": {},
   "outputs": [],
   "source": [
    "def train_model(model, BATCH_SIZE, LEARNING_RATE, EPOCH):\n",
    "    loss_func = nn.CrossEntropyLoss()\n",
    "    optimizer = torch.optim.Adam(model.parameters(), lr=LEARNING_RATE)\n",
    "    top_valid_acc = 0\n",
    "\n",
    "    for i in range(EPOCH):\n",
    "        model.train()\n",
    "        for j in range(0, len(X_train), BATCH_SIZE):\n",
    "            X_batch = X_train[j:j+BATCH_SIZE].to(device)\n",
    "            y_batch = y_train[j:j+BATCH_SIZE].to(device)\n",
    "\n",
    "            optimizer.zero_grad()\n",
    "            output = model(X_batch)\n",
    "\n",
    "            loss = loss_func(output, y_batch)\n",
    "            loss.backward()\n",
    "            optimizer.step()\n",
    "\n",
    "        model.eval()\n",
    "        with torch.no_grad():\n",
    "            y_pred = model(X_valid.to(device))\n",
    "            loss = loss_func(y_pred, y_valid.to(device))\n",
    "\n",
    "            cur_valid_acc = (y_pred.argmax(1) == y_valid.to(device)).float().mean().item()\n",
    "\n",
    "            if cur_valid_acc > top_valid_acc:\n",
    "                top_valid_acc = cur_valid_acc\n",
    "\n",
    "    return top_valid_acc"
   ]
  },
  {
   "cell_type": "code",
   "execution_count": 13,
   "metadata": {},
   "outputs": [
    {
     "name": "stdout",
     "output_type": "stream",
     "text": [
      "learning rate: 0.001, batch size: 16, top valid acc: 0.7360789775848389\n",
      "learning rate: 0.001, batch size: 32, top valid acc: 0.7430132031440735\n",
      "learning rate: 0.001, batch size: 64, top valid acc: 0.7517335414886475\n",
      "learning rate: 0.001, batch size: 128, top valid acc: 0.7472158074378967\n",
      "learning rate: 0.0005, batch size: 16, top valid acc: 0.7435385584831238\n",
      "learning rate: 0.0005, batch size: 32, top valid acc: 0.748686671257019\n",
      "learning rate: 0.0005, batch size: 64, top valid acc: 0.7502626180648804\n",
      "learning rate: 0.0005, batch size: 128, top valid acc: 0.7505778074264526\n",
      "learning rate: 0.0001, batch size: 16, top valid acc: 0.7518386244773865\n",
      "learning rate: 0.0001, batch size: 32, top valid acc: 0.7461651563644409\n",
      "learning rate: 0.0001, batch size: 64, top valid acc: 0.7469005584716797\n",
      "learning rate: 0.0001, batch size: 128, top valid acc: 0.7505778074264526\n",
      "learning rate: 5e-05, batch size: 16, top valid acc: 0.7501575946807861\n",
      "learning rate: 5e-05, batch size: 32, top valid acc: 0.7552006244659424\n",
      "learning rate: 5e-05, batch size: 64, top valid acc: 0.7508929967880249\n",
      "learning rate: 5e-05, batch size: 128, top valid acc: 0.752258837223053\n",
      "learning rate: 1e-05, batch size: 16, top valid acc: 0.7590880393981934\n",
      "learning rate: 1e-05, batch size: 32, top valid acc: 0.7528892159461975\n",
      "learning rate: 1e-05, batch size: 64, top valid acc: 0.7469005584716797\n",
      "learning rate: 1e-05, batch size: 128, top valid acc: 0.7369195222854614\n"
     ]
    },
    {
     "data": {
      "text/html": [
       "<div>\n",
       "<style scoped>\n",
       "    .dataframe tbody tr th:only-of-type {\n",
       "        vertical-align: middle;\n",
       "    }\n",
       "\n",
       "    .dataframe tbody tr th {\n",
       "        vertical-align: top;\n",
       "    }\n",
       "\n",
       "    .dataframe thead th {\n",
       "        text-align: right;\n",
       "    }\n",
       "</style>\n",
       "<table border=\"1\" class=\"dataframe\">\n",
       "  <thead>\n",
       "    <tr style=\"text-align: right;\">\n",
       "      <th></th>\n",
       "      <th>learning_rate</th>\n",
       "      <th>batch_size</th>\n",
       "      <th>top_valid_acc</th>\n",
       "    </tr>\n",
       "  </thead>\n",
       "  <tbody>\n",
       "    <tr>\n",
       "      <th>0</th>\n",
       "      <td>0.00100</td>\n",
       "      <td>16</td>\n",
       "      <td>0.736079</td>\n",
       "    </tr>\n",
       "    <tr>\n",
       "      <th>1</th>\n",
       "      <td>0.00100</td>\n",
       "      <td>32</td>\n",
       "      <td>0.743013</td>\n",
       "    </tr>\n",
       "    <tr>\n",
       "      <th>2</th>\n",
       "      <td>0.00100</td>\n",
       "      <td>64</td>\n",
       "      <td>0.751734</td>\n",
       "    </tr>\n",
       "    <tr>\n",
       "      <th>3</th>\n",
       "      <td>0.00100</td>\n",
       "      <td>128</td>\n",
       "      <td>0.747216</td>\n",
       "    </tr>\n",
       "    <tr>\n",
       "      <th>4</th>\n",
       "      <td>0.00050</td>\n",
       "      <td>16</td>\n",
       "      <td>0.743539</td>\n",
       "    </tr>\n",
       "    <tr>\n",
       "      <th>5</th>\n",
       "      <td>0.00050</td>\n",
       "      <td>32</td>\n",
       "      <td>0.748687</td>\n",
       "    </tr>\n",
       "    <tr>\n",
       "      <th>6</th>\n",
       "      <td>0.00050</td>\n",
       "      <td>64</td>\n",
       "      <td>0.750263</td>\n",
       "    </tr>\n",
       "    <tr>\n",
       "      <th>7</th>\n",
       "      <td>0.00050</td>\n",
       "      <td>128</td>\n",
       "      <td>0.750578</td>\n",
       "    </tr>\n",
       "    <tr>\n",
       "      <th>8</th>\n",
       "      <td>0.00010</td>\n",
       "      <td>16</td>\n",
       "      <td>0.751839</td>\n",
       "    </tr>\n",
       "    <tr>\n",
       "      <th>9</th>\n",
       "      <td>0.00010</td>\n",
       "      <td>32</td>\n",
       "      <td>0.746165</td>\n",
       "    </tr>\n",
       "    <tr>\n",
       "      <th>10</th>\n",
       "      <td>0.00010</td>\n",
       "      <td>64</td>\n",
       "      <td>0.746901</td>\n",
       "    </tr>\n",
       "    <tr>\n",
       "      <th>11</th>\n",
       "      <td>0.00010</td>\n",
       "      <td>128</td>\n",
       "      <td>0.750578</td>\n",
       "    </tr>\n",
       "    <tr>\n",
       "      <th>12</th>\n",
       "      <td>0.00005</td>\n",
       "      <td>16</td>\n",
       "      <td>0.750158</td>\n",
       "    </tr>\n",
       "    <tr>\n",
       "      <th>13</th>\n",
       "      <td>0.00005</td>\n",
       "      <td>32</td>\n",
       "      <td>0.755201</td>\n",
       "    </tr>\n",
       "    <tr>\n",
       "      <th>14</th>\n",
       "      <td>0.00005</td>\n",
       "      <td>64</td>\n",
       "      <td>0.750893</td>\n",
       "    </tr>\n",
       "    <tr>\n",
       "      <th>15</th>\n",
       "      <td>0.00005</td>\n",
       "      <td>128</td>\n",
       "      <td>0.752259</td>\n",
       "    </tr>\n",
       "    <tr>\n",
       "      <th>16</th>\n",
       "      <td>0.00001</td>\n",
       "      <td>16</td>\n",
       "      <td>0.759088</td>\n",
       "    </tr>\n",
       "    <tr>\n",
       "      <th>17</th>\n",
       "      <td>0.00001</td>\n",
       "      <td>32</td>\n",
       "      <td>0.752889</td>\n",
       "    </tr>\n",
       "    <tr>\n",
       "      <th>18</th>\n",
       "      <td>0.00001</td>\n",
       "      <td>64</td>\n",
       "      <td>0.746901</td>\n",
       "    </tr>\n",
       "    <tr>\n",
       "      <th>19</th>\n",
       "      <td>0.00001</td>\n",
       "      <td>128</td>\n",
       "      <td>0.736920</td>\n",
       "    </tr>\n",
       "  </tbody>\n",
       "</table>\n",
       "</div>"
      ],
      "text/plain": [
       "    learning_rate  batch_size  top_valid_acc\n",
       "0         0.00100          16       0.736079\n",
       "1         0.00100          32       0.743013\n",
       "2         0.00100          64       0.751734\n",
       "3         0.00100         128       0.747216\n",
       "4         0.00050          16       0.743539\n",
       "5         0.00050          32       0.748687\n",
       "6         0.00050          64       0.750263\n",
       "7         0.00050         128       0.750578\n",
       "8         0.00010          16       0.751839\n",
       "9         0.00010          32       0.746165\n",
       "10        0.00010          64       0.746901\n",
       "11        0.00010         128       0.750578\n",
       "12        0.00005          16       0.750158\n",
       "13        0.00005          32       0.755201\n",
       "14        0.00005          64       0.750893\n",
       "15        0.00005         128       0.752259\n",
       "16        0.00001          16       0.759088\n",
       "17        0.00001          32       0.752889\n",
       "18        0.00001          64       0.746901\n",
       "19        0.00001         128       0.736920"
      ]
     },
     "execution_count": 13,
     "metadata": {},
     "output_type": "execute_result"
    }
   ],
   "source": [
    "result = []\n",
    "\n",
    "for lr in learning_rate:\n",
    "    for bs in batch_size:\n",
    "        model = LeNet().to(device)\n",
    "        result.append({\n",
    "            'learning_rate': lr,\n",
    "            'batch_size': bs,\n",
    "            'top_valid_acc': train_model(model, bs, lr, EPOCH)\n",
    "        })\n",
    "        print(f'learning rate: {lr}, batch size: {bs}, top valid acc: {result[-1][\"top_valid_acc\"]}')\n",
    "        del model\n",
    "\n",
    "result_df = pd.DataFrame(result)\n",
    "result_df"
   ]
  },
  {
   "cell_type": "code",
   "execution_count": 14,
   "metadata": {},
   "outputs": [],
   "source": [
    "result_df.to_csv('./LeNet_result.csv', encoding = 'utf-8', index=False)"
   ]
  }
 ],
 "metadata": {
  "kernelspec": {
   "display_name": "test",
   "language": "python",
   "name": "python3"
  },
  "language_info": {
   "codemirror_mode": {
    "name": "ipython",
    "version": 3
   },
   "file_extension": ".py",
   "mimetype": "text/x-python",
   "name": "python",
   "nbconvert_exporter": "python",
   "pygments_lexer": "ipython3",
   "version": "3.8.17"
  }
 },
 "nbformat": 4,
 "nbformat_minor": 2
}
